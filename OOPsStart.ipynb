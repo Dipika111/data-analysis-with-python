{
 "cells": [
  {
   "cell_type": "code",
   "execution_count": 1,
   "id": "4cef542f",
   "metadata": {},
   "outputs": [],
   "source": [
    "# Object Oriented Programming "
   ]
  },
  {
   "cell_type": "code",
   "execution_count": 2,
   "id": "52f6d41c",
   "metadata": {},
   "outputs": [],
   "source": [
    "class phone:\n",
    "    def make_call(self):\n",
    "        print(\"I am making a call\")\n",
    "    def play_game(self):\n",
    "        print(\"I am playnig a game\")"
   ]
  },
  {
   "cell_type": "code",
   "execution_count": 3,
   "id": "aaf6a759",
   "metadata": {},
   "outputs": [],
   "source": [
    "p1 = phone()"
   ]
  },
  {
   "cell_type": "code",
   "execution_count": 4,
   "id": "53340da7",
   "metadata": {},
   "outputs": [
    {
     "name": "stdout",
     "output_type": "stream",
     "text": [
      "I am making a call\n"
     ]
    }
   ],
   "source": [
    "p1.make_call()"
   ]
  },
  {
   "cell_type": "code",
   "execution_count": 5,
   "id": "347ae2fa",
   "metadata": {},
   "outputs": [
    {
     "name": "stdout",
     "output_type": "stream",
     "text": [
      "I am playnig a game\n"
     ]
    }
   ],
   "source": [
    "p1.play_game()"
   ]
  },
  {
   "cell_type": "code",
   "execution_count": 12,
   "id": "826a9715",
   "metadata": {},
   "outputs": [],
   "source": [
    "class phone:\n",
    "    def set_color(self, color):\n",
    "        self.color=color\n",
    "    def set_cost(self,cost):\n",
    "        self.cost=cost\n",
    "    def show_color(self):\n",
    "        return self.color\n",
    "    def show_cost(self):\n",
    "        return self.cost\n",
    "    def make_call(self):\n",
    "        print(\"make call\")\n",
    "    def play_game(self):\n",
    "        print(\"play game\")"
   ]
  },
  {
   "cell_type": "code",
   "execution_count": 13,
   "id": "7da28807",
   "metadata": {},
   "outputs": [],
   "source": [
    "p2 = phone()"
   ]
  },
  {
   "cell_type": "code",
   "execution_count": 14,
   "id": "e340d0d6",
   "metadata": {},
   "outputs": [],
   "source": [
    "p2.set_color(\"blue\")"
   ]
  },
  {
   "cell_type": "code",
   "execution_count": 16,
   "id": "5c64bcce",
   "metadata": {},
   "outputs": [],
   "source": [
    "p2.set_cost(5000)"
   ]
  },
  {
   "cell_type": "code",
   "execution_count": 17,
   "id": "9b877add",
   "metadata": {},
   "outputs": [
    {
     "data": {
      "text/plain": [
       "'blue'"
      ]
     },
     "execution_count": 17,
     "metadata": {},
     "output_type": "execute_result"
    }
   ],
   "source": [
    "p2.show_color()"
   ]
  },
  {
   "cell_type": "code",
   "execution_count": 18,
   "id": "bff73185",
   "metadata": {},
   "outputs": [
    {
     "data": {
      "text/plain": [
       "5000"
      ]
     },
     "execution_count": 18,
     "metadata": {},
     "output_type": "execute_result"
    }
   ],
   "source": [
    "p2.show_cost()"
   ]
  },
  {
   "cell_type": "code",
   "execution_count": 19,
   "id": "04f9f80c",
   "metadata": {},
   "outputs": [
    {
     "name": "stdout",
     "output_type": "stream",
     "text": [
      "make call\n"
     ]
    }
   ],
   "source": [
    "p2.make_call()"
   ]
  },
  {
   "cell_type": "code",
   "execution_count": 20,
   "id": "0c282155",
   "metadata": {},
   "outputs": [
    {
     "name": "stdout",
     "output_type": "stream",
     "text": [
      "play game\n"
     ]
    }
   ],
   "source": [
    "p2.play_game()"
   ]
  },
  {
   "cell_type": "code",
   "execution_count": null,
   "id": "94cd056b",
   "metadata": {},
   "outputs": [],
   "source": [
    "# Constructor"
   ]
  },
  {
   "cell_type": "code",
   "execution_count": 21,
   "id": "51efbbc7",
   "metadata": {},
   "outputs": [],
   "source": [
    "class Employee:\n",
    "    def __init__(self,name,age, gender, salary):\n",
    "        self.name = name\n",
    "        self.age = age\n",
    "        self.gender = gender\n",
    "        self.salary = salary\n",
    "    \n",
    "    def show_employee_details(self):\n",
    "        print(\"Name of Employee: \", self.name)\n",
    "        print(\"Age: \", self.age)\n",
    "        print(\"Gender: \", self.gender)\n",
    "        print(\"salary: \", self.salary)"
   ]
  },
  {
   "cell_type": "code",
   "execution_count": 23,
   "id": "436a56dd",
   "metadata": {},
   "outputs": [],
   "source": [
    "e1 = Employee(\"Ram\", 35, \"Male\", 25000)"
   ]
  },
  {
   "cell_type": "code",
   "execution_count": 24,
   "id": "b950b3c8",
   "metadata": {},
   "outputs": [
    {
     "name": "stdout",
     "output_type": "stream",
     "text": [
      "Name of Employee:  Ram\n",
      "Age:  35\n",
      "Gender:  Male\n",
      "salary:  25000\n"
     ]
    }
   ],
   "source": [
    "e1.show_employee_details()"
   ]
  },
  {
   "cell_type": "code",
   "execution_count": 5,
   "id": "2fe92783",
   "metadata": {},
   "outputs": [],
   "source": [
    "# example of singal inheritance \n",
    "\n",
    "class Vehicle:\n",
    "    def __init__(self, mileage, cost):\n",
    "        self.mileage = mileage\n",
    "        self.cost = cost\n",
    "        \n",
    "    def show_vehicle_details(self):\n",
    "        print(\"mileage of vehicle: \", self.mileage)\n",
    "        print(\"cost of vehile: \", self.cost)\n",
    "        print(\"i am vehicle\")"
   ]
  },
  {
   "cell_type": "code",
   "execution_count": 18,
   "id": "958d88fb",
   "metadata": {},
   "outputs": [],
   "source": [
    "v1 = Vehicle(300, 500)"
   ]
  },
  {
   "cell_type": "code",
   "execution_count": 17,
   "id": "bd32e14e",
   "metadata": {},
   "outputs": [],
   "source": [
    "#over riding __init__ method using super()\n",
    "\n",
    "class Car(Vehicle):\n",
    "    def __init__(self, mileage, cost, tyres, hp):\n",
    "        super().__init__(mileage, cost)\n",
    "        self.tyres = tyres\n",
    "        self.hp = hp\n",
    "        \n",
    "    def show_car_details(self):\n",
    "        print(\"i am a car\")\n",
    "        print(\"Number of tyres are \", self.tyres)\n",
    "        print(\"Value of hourse power is\", self.hp)"
   ]
  },
  {
   "cell_type": "code",
   "execution_count": 20,
   "id": "9849e217",
   "metadata": {},
   "outputs": [],
   "source": [
    "c1 = Car(600,120000000,8 , 999)"
   ]
  },
  {
   "cell_type": "code",
   "execution_count": 21,
   "id": "76155780",
   "metadata": {},
   "outputs": [
    {
     "name": "stdout",
     "output_type": "stream",
     "text": [
      "i am a car\n",
      "Number of tyres are  8\n",
      "Value of hourse power is 999\n"
     ]
    }
   ],
   "source": [
    "c1.show_car_details()"
   ]
  },
  {
   "cell_type": "code",
   "execution_count": 22,
   "id": "9cfca114",
   "metadata": {},
   "outputs": [
    {
     "name": "stdout",
     "output_type": "stream",
     "text": [
      "mileage of vehicle:  600\n",
      "cost of vehile:  120000000\n",
      "i am vehicle\n"
     ]
    }
   ],
   "source": [
    "c1.show_vehicle_details()"
   ]
  },
  {
   "cell_type": "code",
   "execution_count": null,
   "id": "b64de7e9",
   "metadata": {},
   "outputs": [],
   "source": [
    "# types of Inheritance \n",
    "# multiple inheritance "
   ]
  },
  {
   "cell_type": "code",
   "execution_count": 12,
   "id": "47a4b760",
   "metadata": {},
   "outputs": [],
   "source": [
    "class Parent1:\n",
    "    def assign_string_one(self, str1):\n",
    "        self.str1 = str1\n",
    "    def show_string_one(self):\n",
    "        return self.str1"
   ]
  },
  {
   "cell_type": "code",
   "execution_count": 13,
   "id": "5bf92b0e",
   "metadata": {},
   "outputs": [],
   "source": [
    "class Parent2:\n",
    "    def assign_string_two(self, str2):\n",
    "        self.str2 = str2\n",
    "    def show_string_two(self):\n",
    "        return self.str2"
   ]
  },
  {
   "cell_type": "code",
   "execution_count": 15,
   "id": "d433ca5c",
   "metadata": {},
   "outputs": [],
   "source": [
    "class child (Parent1, Parent2):\n",
    "    def assign_string_three(self, str3):\n",
    "        self.str3 = str3\n",
    "    def show_string_three(self):\n",
    "        return self.str3"
   ]
  },
  {
   "cell_type": "code",
   "execution_count": 16,
   "id": "9b4fa9ce",
   "metadata": {},
   "outputs": [],
   "source": [
    "my_child = child()"
   ]
  },
  {
   "cell_type": "code",
   "execution_count": 17,
   "id": "fe0dcaa3",
   "metadata": {},
   "outputs": [],
   "source": [
    "my_child.assign_string_one(\"I am string of parent one\")"
   ]
  },
  {
   "cell_type": "code",
   "execution_count": 18,
   "id": "e401a7b0",
   "metadata": {},
   "outputs": [],
   "source": [
    "my_child.assign_string_two(\"I am string of parent two\")"
   ]
  },
  {
   "cell_type": "code",
   "execution_count": 19,
   "id": "8b1d1606",
   "metadata": {},
   "outputs": [],
   "source": [
    "my_child.assign_string_three(\"I am string of child\")"
   ]
  },
  {
   "cell_type": "code",
   "execution_count": 20,
   "id": "33b83a27",
   "metadata": {},
   "outputs": [
    {
     "data": {
      "text/plain": [
       "'I am string of parent one'"
      ]
     },
     "execution_count": 20,
     "metadata": {},
     "output_type": "execute_result"
    }
   ],
   "source": [
    "my_child.show_string_one()"
   ]
  },
  {
   "cell_type": "code",
   "execution_count": 21,
   "id": "b00646ff",
   "metadata": {},
   "outputs": [
    {
     "data": {
      "text/plain": [
       "'I am string of parent two'"
      ]
     },
     "execution_count": 21,
     "metadata": {},
     "output_type": "execute_result"
    }
   ],
   "source": [
    "my_child.show_string_two()"
   ]
  },
  {
   "cell_type": "code",
   "execution_count": 22,
   "id": "21b21bfd",
   "metadata": {},
   "outputs": [
    {
     "data": {
      "text/plain": [
       "'I am string of child'"
      ]
     },
     "execution_count": 22,
     "metadata": {},
     "output_type": "execute_result"
    }
   ],
   "source": [
    "my_child.show_string_three()"
   ]
  },
  {
   "cell_type": "code",
   "execution_count": null,
   "id": "161ca67e",
   "metadata": {},
   "outputs": [],
   "source": [
    "# Multi-level Inheritance"
   ]
  },
  {
   "cell_type": "code",
   "execution_count": 23,
   "id": "d19dd743",
   "metadata": {},
   "outputs": [],
   "source": [
    "class Parent:\n",
    "    def get_name(self, name):\n",
    "        self.name = name\n",
    "    def show_name(self):\n",
    "        return self.name"
   ]
  },
  {
   "cell_type": "code",
   "execution_count": 26,
   "id": "5accd014",
   "metadata": {},
   "outputs": [],
   "source": [
    "class Child(Parent):\n",
    "    def get_age(self, age):\n",
    "        self.age = age\n",
    "    def show_age(self):\n",
    "        return self.age\n",
    "        "
   ]
  },
  {
   "cell_type": "code",
   "execution_count": 28,
   "id": "92e66d00",
   "metadata": {},
   "outputs": [],
   "source": [
    "class GrandChild(Child):\n",
    "    def get_gender(self, gender):\n",
    "        self.gender = gender\n",
    "    def show_gender(self):\n",
    "        return self.gender"
   ]
  },
  {
   "cell_type": "code",
   "execution_count": 29,
   "id": "e4825655",
   "metadata": {},
   "outputs": [],
   "source": [
    "gc = GrandChild()"
   ]
  },
  {
   "cell_type": "code",
   "execution_count": 30,
   "id": "072c8bc0",
   "metadata": {},
   "outputs": [],
   "source": [
    "gc.get_name(\"Dipika\")"
   ]
  },
  {
   "cell_type": "code",
   "execution_count": 31,
   "id": "ce1e3e2b",
   "metadata": {},
   "outputs": [],
   "source": [
    "gc.get_age(26)"
   ]
  },
  {
   "cell_type": "code",
   "execution_count": 32,
   "id": "b36811ac",
   "metadata": {},
   "outputs": [],
   "source": [
    "gc.get_gender(\"female\")"
   ]
  },
  {
   "cell_type": "code",
   "execution_count": 33,
   "id": "c2a15f9b",
   "metadata": {},
   "outputs": [
    {
     "data": {
      "text/plain": [
       "'Dipika'"
      ]
     },
     "execution_count": 33,
     "metadata": {},
     "output_type": "execute_result"
    }
   ],
   "source": [
    "gc.show_name()"
   ]
  },
  {
   "cell_type": "code",
   "execution_count": 34,
   "id": "3403310b",
   "metadata": {},
   "outputs": [
    {
     "data": {
      "text/plain": [
       "26"
      ]
     },
     "execution_count": 34,
     "metadata": {},
     "output_type": "execute_result"
    }
   ],
   "source": [
    "gc.show_age()"
   ]
  },
  {
   "cell_type": "code",
   "execution_count": 35,
   "id": "f4e02886",
   "metadata": {},
   "outputs": [
    {
     "data": {
      "text/plain": [
       "'female'"
      ]
     },
     "execution_count": 35,
     "metadata": {},
     "output_type": "execute_result"
    }
   ],
   "source": [
    "gc.show_gender()"
   ]
  },
  {
   "cell_type": "code",
   "execution_count": null,
   "id": "bce8d646",
   "metadata": {},
   "outputs": [],
   "source": [
    "# libraries of Python \n",
    "#1 Pandas 2 Numpy 3 Metplotlib  "
   ]
  },
  {
   "cell_type": "code",
   "execution_count": null,
   "id": "65a09c4d",
   "metadata": {},
   "outputs": [],
   "source": [
    "#1 Numpy Libraries"
   ]
  },
  {
   "cell_type": "code",
   "execution_count": 1,
   "id": "05a71347",
   "metadata": {},
   "outputs": [],
   "source": [
    "import numpy as np"
   ]
  },
  {
   "cell_type": "code",
   "execution_count": 2,
   "id": "7c0322a3",
   "metadata": {},
   "outputs": [],
   "source": [
    "li =[1,2,3,4]"
   ]
  },
  {
   "cell_type": "code",
   "execution_count": 3,
   "id": "8aac91b6",
   "metadata": {},
   "outputs": [],
   "source": [
    "n1= np.array(li)"
   ]
  },
  {
   "cell_type": "code",
   "execution_count": 4,
   "id": "2a1821b0",
   "metadata": {},
   "outputs": [
    {
     "data": {
      "text/plain": [
       "array([1, 2, 3, 4])"
      ]
     },
     "execution_count": 4,
     "metadata": {},
     "output_type": "execute_result"
    }
   ],
   "source": [
    "n1"
   ]
  },
  {
   "cell_type": "code",
   "execution_count": 5,
   "id": "2c8b3254",
   "metadata": {},
   "outputs": [
    {
     "data": {
      "text/plain": [
       "numpy.ndarray"
      ]
     },
     "execution_count": 5,
     "metadata": {},
     "output_type": "execute_result"
    }
   ],
   "source": [
    "type(n1)"
   ]
  },
  {
   "cell_type": "code",
   "execution_count": 7,
   "id": "7d0c8e96",
   "metadata": {},
   "outputs": [],
   "source": [
    "n2 = np.array([[1,2,3,4],[4,3,2,1]])"
   ]
  },
  {
   "cell_type": "code",
   "execution_count": 8,
   "id": "6cc96df6",
   "metadata": {},
   "outputs": [
    {
     "data": {
      "text/plain": [
       "array([[1, 2, 3, 4],\n",
       "       [4, 3, 2, 1]])"
      ]
     },
     "execution_count": 8,
     "metadata": {},
     "output_type": "execute_result"
    }
   ],
   "source": [
    "n2"
   ]
  },
  {
   "cell_type": "code",
   "execution_count": 9,
   "id": "50f891cc",
   "metadata": {},
   "outputs": [
    {
     "data": {
      "text/plain": [
       "numpy.ndarray"
      ]
     },
     "execution_count": 9,
     "metadata": {},
     "output_type": "execute_result"
    }
   ],
   "source": [
    "type(n2)"
   ]
  },
  {
   "cell_type": "code",
   "execution_count": null,
   "id": "42dc317d",
   "metadata": {},
   "outputs": [],
   "source": [
    "# initializing Numpy Array\n",
    "#Zeros method"
   ]
  },
  {
   "cell_type": "code",
   "execution_count": 10,
   "id": "adc714b0",
   "metadata": {},
   "outputs": [],
   "source": [
    "n3= np.zeros((2,3))"
   ]
  },
  {
   "cell_type": "code",
   "execution_count": 11,
   "id": "18d79ff9",
   "metadata": {},
   "outputs": [
    {
     "data": {
      "text/plain": [
       "array([[0., 0., 0.],\n",
       "       [0., 0., 0.]])"
      ]
     },
     "execution_count": 11,
     "metadata": {},
     "output_type": "execute_result"
    }
   ],
   "source": [
    "n3"
   ]
  },
  {
   "cell_type": "code",
   "execution_count": 13,
   "id": "3abc4249",
   "metadata": {},
   "outputs": [
    {
     "data": {
      "text/plain": [
       "numpy.ndarray"
      ]
     },
     "execution_count": 13,
     "metadata": {},
     "output_type": "execute_result"
    }
   ],
   "source": [
    "type(n3)"
   ]
  },
  {
   "cell_type": "code",
   "execution_count": 14,
   "id": "da1d4ea7",
   "metadata": {},
   "outputs": [],
   "source": [
    "n4= np.zeros((10,10))"
   ]
  },
  {
   "cell_type": "code",
   "execution_count": 15,
   "id": "e37587ba",
   "metadata": {},
   "outputs": [
    {
     "data": {
      "text/plain": [
       "array([[0., 0., 0., 0., 0., 0., 0., 0., 0., 0.],\n",
       "       [0., 0., 0., 0., 0., 0., 0., 0., 0., 0.],\n",
       "       [0., 0., 0., 0., 0., 0., 0., 0., 0., 0.],\n",
       "       [0., 0., 0., 0., 0., 0., 0., 0., 0., 0.],\n",
       "       [0., 0., 0., 0., 0., 0., 0., 0., 0., 0.],\n",
       "       [0., 0., 0., 0., 0., 0., 0., 0., 0., 0.],\n",
       "       [0., 0., 0., 0., 0., 0., 0., 0., 0., 0.],\n",
       "       [0., 0., 0., 0., 0., 0., 0., 0., 0., 0.],\n",
       "       [0., 0., 0., 0., 0., 0., 0., 0., 0., 0.],\n",
       "       [0., 0., 0., 0., 0., 0., 0., 0., 0., 0.]])"
      ]
     },
     "execution_count": 15,
     "metadata": {},
     "output_type": "execute_result"
    }
   ],
   "source": [
    "n4"
   ]
  },
  {
   "cell_type": "code",
   "execution_count": 16,
   "id": "637d1c69",
   "metadata": {},
   "outputs": [
    {
     "data": {
      "text/plain": [
       "numpy.ndarray"
      ]
     },
     "execution_count": 16,
     "metadata": {},
     "output_type": "execute_result"
    }
   ],
   "source": [
    "type(n4)"
   ]
  },
  {
   "cell_type": "code",
   "execution_count": null,
   "id": "6ada150a",
   "metadata": {},
   "outputs": [],
   "source": [
    "# intializing numpy array with samr number"
   ]
  },
  {
   "cell_type": "code",
   "execution_count": 19,
   "id": "bf9e2065",
   "metadata": {},
   "outputs": [],
   "source": [
    "n5 = np.full((3,3), 10)"
   ]
  },
  {
   "cell_type": "code",
   "execution_count": 20,
   "id": "08936a26",
   "metadata": {},
   "outputs": [
    {
     "data": {
      "text/plain": [
       "array([[10, 10, 10],\n",
       "       [10, 10, 10],\n",
       "       [10, 10, 10]])"
      ]
     },
     "execution_count": 20,
     "metadata": {},
     "output_type": "execute_result"
    }
   ],
   "source": [
    "n5"
   ]
  },
  {
   "cell_type": "code",
   "execution_count": null,
   "id": "b68756de",
   "metadata": {},
   "outputs": [],
   "source": [
    "# intializing Numpy array with a range"
   ]
  },
  {
   "cell_type": "code",
   "execution_count": 21,
   "id": "4ea59cb6",
   "metadata": {},
   "outputs": [],
   "source": [
    "n6= np.arange (10,100,10)"
   ]
  },
  {
   "cell_type": "code",
   "execution_count": 22,
   "id": "32c761a6",
   "metadata": {},
   "outputs": [
    {
     "data": {
      "text/plain": [
       "array([10, 20, 30, 40, 50, 60, 70, 80, 90])"
      ]
     },
     "execution_count": 22,
     "metadata": {},
     "output_type": "execute_result"
    }
   ],
   "source": [
    "n6"
   ]
  },
  {
   "cell_type": "code",
   "execution_count": 23,
   "id": "eea1c342",
   "metadata": {},
   "outputs": [],
   "source": [
    "n7= np.arange(5,25,5)"
   ]
  },
  {
   "cell_type": "code",
   "execution_count": 24,
   "id": "6eb0736f",
   "metadata": {},
   "outputs": [
    {
     "data": {
      "text/plain": [
       "array([ 5, 10, 15, 20])"
      ]
     },
     "execution_count": 24,
     "metadata": {},
     "output_type": "execute_result"
    }
   ],
   "source": [
    "n7"
   ]
  },
  {
   "cell_type": "code",
   "execution_count": null,
   "id": "99cdd93d",
   "metadata": {},
   "outputs": [],
   "source": [
    "# intializing Numpy array with random number"
   ]
  },
  {
   "cell_type": "code",
   "execution_count": 30,
   "id": "696c30e7",
   "metadata": {},
   "outputs": [
    {
     "data": {
      "text/plain": [
       "array([17, 12, 12])"
      ]
     },
     "execution_count": 30,
     "metadata": {},
     "output_type": "execute_result"
    }
   ],
   "source": [
    "np.random.randint(10,20,3)"
   ]
  },
  {
   "cell_type": "code",
   "execution_count": null,
   "id": "2c1dff47",
   "metadata": {},
   "outputs": [],
   "source": []
  },
  {
   "cell_type": "code",
   "execution_count": null,
   "id": "58dd583f",
   "metadata": {},
   "outputs": [],
   "source": []
  }
 ],
 "metadata": {
  "kernelspec": {
   "display_name": "Python 3 (ipykernel)",
   "language": "python",
   "name": "python3"
  },
  "language_info": {
   "codemirror_mode": {
    "name": "ipython",
    "version": 3
   },
   "file_extension": ".py",
   "mimetype": "text/x-python",
   "name": "python",
   "nbconvert_exporter": "python",
   "pygments_lexer": "ipython3",
   "version": "3.9.13"
  }
 },
 "nbformat": 4,
 "nbformat_minor": 5
}
