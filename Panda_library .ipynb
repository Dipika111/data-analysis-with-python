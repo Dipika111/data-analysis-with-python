{
 "cells": [
  {
   "cell_type": "code",
   "execution_count": 1,
   "id": "71a5b668",
   "metadata": {},
   "outputs": [],
   "source": [
    "#Panda library for Data Manupuletion"
   ]
  },
  {
   "cell_type": "code",
   "execution_count": 2,
   "id": "ac5067a1",
   "metadata": {},
   "outputs": [],
   "source": [
    "import pandas as pd"
   ]
  },
  {
   "cell_type": "code",
   "execution_count": 3,
   "id": "25159bd2",
   "metadata": {},
   "outputs": [],
   "source": [
    "s1=pd.Series([1,2,3,4,5])"
   ]
  },
  {
   "cell_type": "code",
   "execution_count": 4,
   "id": "62ae0aae",
   "metadata": {},
   "outputs": [
    {
     "data": {
      "text/plain": [
       "0    1\n",
       "1    2\n",
       "2    3\n",
       "3    4\n",
       "4    5\n",
       "dtype: int64"
      ]
     },
     "execution_count": 4,
     "metadata": {},
     "output_type": "execute_result"
    }
   ],
   "source": [
    "s1"
   ]
  },
  {
   "cell_type": "code",
   "execution_count": 5,
   "id": "e32a3cfd",
   "metadata": {},
   "outputs": [
    {
     "data": {
      "text/plain": [
       "pandas.core.series.Series"
      ]
     },
     "execution_count": 5,
     "metadata": {},
     "output_type": "execute_result"
    }
   ],
   "source": [
    "type(s1)"
   ]
  },
  {
   "cell_type": "code",
   "execution_count": null,
   "id": "18cc1ea5",
   "metadata": {},
   "outputs": [],
   "source": [
    "# changing index values from list(linked list)"
   ]
  },
  {
   "cell_type": "code",
   "execution_count": 8,
   "id": "5a2a6bcb",
   "metadata": {},
   "outputs": [],
   "source": [
    "s1 = pd.Series([1,2,3,4,5,6],index=['d','i','p','i','k','a'])"
   ]
  },
  {
   "cell_type": "code",
   "execution_count": 9,
   "id": "63a6263d",
   "metadata": {},
   "outputs": [
    {
     "data": {
      "text/plain": [
       "d    1\n",
       "i    2\n",
       "p    3\n",
       "i    4\n",
       "k    5\n",
       "a    6\n",
       "dtype: int64"
      ]
     },
     "execution_count": 9,
     "metadata": {},
     "output_type": "execute_result"
    }
   ],
   "source": [
    "s1"
   ]
  },
  {
   "cell_type": "code",
   "execution_count": null,
   "id": "582cf1fa",
   "metadata": {},
   "outputs": [],
   "source": [
    "# series object from Dictionary "
   ]
  },
  {
   "cell_type": "code",
   "execution_count": 10,
   "id": "c17423a0",
   "metadata": {},
   "outputs": [
    {
     "data": {
      "text/plain": [
       "a1    20\n",
       "a2    40\n",
       "a3    60\n",
       "a4    80\n",
       "dtype: int64"
      ]
     },
     "execution_count": 10,
     "metadata": {},
     "output_type": "execute_result"
    }
   ],
   "source": [
    "pd.Series({'a1':20,'a2':40,'a3':60, 'a4':80})"
   ]
  },
  {
   "cell_type": "code",
   "execution_count": null,
   "id": "41ad770d",
   "metadata": {},
   "outputs": [],
   "source": [
    "# changing index values in dictionary "
   ]
  },
  {
   "cell_type": "code",
   "execution_count": 11,
   "id": "900b56a9",
   "metadata": {},
   "outputs": [],
   "source": [
    "s5 = pd.Series({'a1':20,'a2':40,'a3':60, 'a4':80}, index= ['a2','a1','a4','a5','a3'])"
   ]
  },
  {
   "cell_type": "code",
   "execution_count": 12,
   "id": "b6f8e144",
   "metadata": {},
   "outputs": [
    {
     "data": {
      "text/plain": [
       "a2    40.0\n",
       "a1    20.0\n",
       "a4    80.0\n",
       "a5     NaN\n",
       "a3    60.0\n",
       "dtype: float64"
      ]
     },
     "execution_count": 12,
     "metadata": {},
     "output_type": "execute_result"
    }
   ],
   "source": [
    "s5"
   ]
  },
  {
   "cell_type": "code",
   "execution_count": 13,
   "id": "6f0e0a43",
   "metadata": {},
   "outputs": [],
   "source": [
    "# Extracting individual elements"
   ]
  },
  {
   "cell_type": "code",
   "execution_count": 14,
   "id": "d648c476",
   "metadata": {},
   "outputs": [],
   "source": [
    "#Extracting a single element\n",
    "\n",
    "s1 = pd.Series([1,2,3,4,5,6,7,8,9])"
   ]
  },
  {
   "cell_type": "code",
   "execution_count": 15,
   "id": "2d62dad9",
   "metadata": {},
   "outputs": [
    {
     "data": {
      "text/plain": [
       "4"
      ]
     },
     "execution_count": 15,
     "metadata": {},
     "output_type": "execute_result"
    }
   ],
   "source": [
    "s1[3]"
   ]
  },
  {
   "cell_type": "code",
   "execution_count": 16,
   "id": "51e1f168",
   "metadata": {},
   "outputs": [],
   "source": [
    "# Extracting a sequence of elements\n",
    "\n",
    "s1 = pd.Series([1,2,3,4,5,6,7,8,9])"
   ]
  },
  {
   "cell_type": "code",
   "execution_count": 17,
   "id": "c4c1ba55",
   "metadata": {},
   "outputs": [
    {
     "data": {
      "text/plain": [
       "0    1\n",
       "1    2\n",
       "2    3\n",
       "3    4\n",
       "4    5\n",
       "5    6\n",
       "6    7\n",
       "7    8\n",
       "8    9\n",
       "dtype: int64"
      ]
     },
     "execution_count": 17,
     "metadata": {},
     "output_type": "execute_result"
    }
   ],
   "source": [
    "s1"
   ]
  },
  {
   "cell_type": "code",
   "execution_count": 18,
   "id": "f3125063",
   "metadata": {},
   "outputs": [
    {
     "data": {
      "text/plain": [
       "0    1\n",
       "1    2\n",
       "2    3\n",
       "3    4\n",
       "dtype: int64"
      ]
     },
     "execution_count": 18,
     "metadata": {},
     "output_type": "execute_result"
    }
   ],
   "source": [
    "s1[:4]"
   ]
  },
  {
   "cell_type": "code",
   "execution_count": 19,
   "id": "bbeb5ece",
   "metadata": {},
   "outputs": [
    {
     "data": {
      "text/plain": [
       "6    7\n",
       "7    8\n",
       "8    9\n",
       "dtype: int64"
      ]
     },
     "execution_count": 19,
     "metadata": {},
     "output_type": "execute_result"
    }
   ],
   "source": [
    "s1[-3:]"
   ]
  },
  {
   "cell_type": "code",
   "execution_count": 20,
   "id": "2cfc28f7",
   "metadata": {},
   "outputs": [],
   "source": [
    "# Basic math operations on Series"
   ]
  },
  {
   "cell_type": "code",
   "execution_count": 21,
   "id": "94b9c7f6",
   "metadata": {},
   "outputs": [],
   "source": [
    "l1=[10,20,30,40,50]"
   ]
  },
  {
   "cell_type": "code",
   "execution_count": 22,
   "id": "705209eb",
   "metadata": {},
   "outputs": [],
   "source": [
    "s1=pd.Series(l1)"
   ]
  },
  {
   "cell_type": "code",
   "execution_count": 23,
   "id": "b25cff49",
   "metadata": {},
   "outputs": [
    {
     "data": {
      "text/plain": [
       "0    10\n",
       "1    20\n",
       "2    30\n",
       "3    40\n",
       "4    50\n",
       "dtype: int64"
      ]
     },
     "execution_count": 23,
     "metadata": {},
     "output_type": "execute_result"
    }
   ],
   "source": [
    "s1"
   ]
  },
  {
   "cell_type": "code",
   "execution_count": null,
   "id": "f5fdfa34",
   "metadata": {},
   "outputs": [],
   "source": [
    "# Adding a scalar value to series Elements"
   ]
  },
  {
   "cell_type": "code",
   "execution_count": 24,
   "id": "028024b8",
   "metadata": {},
   "outputs": [
    {
     "data": {
      "text/plain": [
       "0    15\n",
       "1    25\n",
       "2    35\n",
       "3    45\n",
       "4    55\n",
       "dtype: int64"
      ]
     },
     "execution_count": 24,
     "metadata": {},
     "output_type": "execute_result"
    }
   ],
   "source": [
    "s1 + 5"
   ]
  },
  {
   "cell_type": "code",
   "execution_count": null,
   "id": "332bd79d",
   "metadata": {},
   "outputs": [],
   "source": [
    "# adding two series objects"
   ]
  },
  {
   "cell_type": "code",
   "execution_count": 28,
   "id": "83182501",
   "metadata": {},
   "outputs": [],
   "source": [
    "s2 = pd.Series([1,2,3,4,5,8,6,4])"
   ]
  },
  {
   "cell_type": "code",
   "execution_count": 29,
   "id": "4dbd5778",
   "metadata": {},
   "outputs": [],
   "source": [
    "s3 = pd.Series([6,7,8,9,0,1,2,3])"
   ]
  },
  {
   "cell_type": "code",
   "execution_count": 30,
   "id": "3831e213",
   "metadata": {},
   "outputs": [
    {
     "data": {
      "text/plain": [
       "0     7\n",
       "1     9\n",
       "2    11\n",
       "3    13\n",
       "4     5\n",
       "5     9\n",
       "6     8\n",
       "7     7\n",
       "dtype: int64"
      ]
     },
     "execution_count": 30,
     "metadata": {},
     "output_type": "execute_result"
    }
   ],
   "source": [
    "s2+s3"
   ]
  },
  {
   "cell_type": "code",
   "execution_count": 31,
   "id": "2ef4bdb8",
   "metadata": {},
   "outputs": [
    {
     "data": {
      "text/plain": [
       "0    17\n",
       "1    19\n",
       "2    21\n",
       "3    23\n",
       "4    15\n",
       "5    19\n",
       "6    18\n",
       "7    17\n",
       "dtype: int64"
      ]
     },
     "execution_count": 31,
     "metadata": {},
     "output_type": "execute_result"
    }
   ],
   "source": [
    "s2+s3+10"
   ]
  },
  {
   "cell_type": "code",
   "execution_count": 32,
   "id": "289d307e",
   "metadata": {},
   "outputs": [
    {
     "data": {
      "text/plain": [
       "0     2\n",
       "1     4\n",
       "2     6\n",
       "3     8\n",
       "4    10\n",
       "5    16\n",
       "6    12\n",
       "7     8\n",
       "dtype: int64"
      ]
     },
     "execution_count": 32,
     "metadata": {},
     "output_type": "execute_result"
    }
   ],
   "source": [
    "s2*2"
   ]
  },
  {
   "cell_type": "code",
   "execution_count": 33,
   "id": "c2e41da8",
   "metadata": {},
   "outputs": [
    {
     "data": {
      "text/plain": [
       "0    3.0\n",
       "1    3.5\n",
       "2    4.0\n",
       "3    4.5\n",
       "4    0.0\n",
       "5    0.5\n",
       "6    1.0\n",
       "7    1.5\n",
       "dtype: float64"
      ]
     },
     "execution_count": 33,
     "metadata": {},
     "output_type": "execute_result"
    }
   ],
   "source": [
    "s3/2"
   ]
  },
  {
   "cell_type": "code",
   "execution_count": 34,
   "id": "1d5f4c01",
   "metadata": {},
   "outputs": [
    {
     "data": {
      "text/plain": [
       "0    5\n",
       "1    5\n",
       "2    5\n",
       "3    5\n",
       "4   -5\n",
       "5   -7\n",
       "6   -4\n",
       "7   -1\n",
       "dtype: int64"
      ]
     },
     "execution_count": 34,
     "metadata": {},
     "output_type": "execute_result"
    }
   ],
   "source": [
    "s3-s2"
   ]
  },
  {
   "cell_type": "code",
   "execution_count": null,
   "id": "d4af8a59",
   "metadata": {},
   "outputs": [],
   "source": [
    "#panda's data structure second\n",
    "# Data frame (multi dimentionl)"
   ]
  },
  {
   "cell_type": "code",
   "execution_count": 2,
   "id": "54d6b641",
   "metadata": {},
   "outputs": [
    {
     "data": {
      "text/html": [
       "<div>\n",
       "<style scoped>\n",
       "    .dataframe tbody tr th:only-of-type {\n",
       "        vertical-align: middle;\n",
       "    }\n",
       "\n",
       "    .dataframe tbody tr th {\n",
       "        vertical-align: top;\n",
       "    }\n",
       "\n",
       "    .dataframe thead th {\n",
       "        text-align: right;\n",
       "    }\n",
       "</style>\n",
       "<table border=\"1\" class=\"dataframe\">\n",
       "  <thead>\n",
       "    <tr style=\"text-align: right;\">\n",
       "      <th></th>\n",
       "      <th>Name</th>\n",
       "      <th>Marks</th>\n",
       "    </tr>\n",
       "  </thead>\n",
       "  <tbody>\n",
       "    <tr>\n",
       "      <th>0</th>\n",
       "      <td>Anne</td>\n",
       "      <td>76</td>\n",
       "    </tr>\n",
       "    <tr>\n",
       "      <th>1</th>\n",
       "      <td>Sam</td>\n",
       "      <td>86</td>\n",
       "    </tr>\n",
       "    <tr>\n",
       "      <th>2</th>\n",
       "      <td>Bob</td>\n",
       "      <td>96</td>\n",
       "    </tr>\n",
       "  </tbody>\n",
       "</table>\n",
       "</div>"
      ],
      "text/plain": [
       "   Name  Marks\n",
       "0  Anne     76\n",
       "1   Sam     86\n",
       "2   Bob     96"
      ]
     },
     "execution_count": 2,
     "metadata": {},
     "output_type": "execute_result"
    }
   ],
   "source": [
    "# creating data frame using Dictionary\n",
    "\n",
    "import pandas as pd\n",
    "pd.DataFrame({\"Name\":['Anne','Sam','Bob'], \"Marks\": [76,86,96]})"
   ]
  },
  {
   "cell_type": "code",
   "execution_count": null,
   "id": "1eacbea1",
   "metadata": {},
   "outputs": [],
   "source": []
  },
  {
   "cell_type": "code",
   "execution_count": null,
   "id": "5a867f41",
   "metadata": {},
   "outputs": [],
   "source": []
  },
  {
   "cell_type": "code",
   "execution_count": null,
   "id": "b6fe7b95",
   "metadata": {},
   "outputs": [],
   "source": []
  },
  {
   "cell_type": "code",
   "execution_count": null,
   "id": "8750d7c1",
   "metadata": {},
   "outputs": [],
   "source": []
  },
  {
   "cell_type": "code",
   "execution_count": null,
   "id": "9d210de5",
   "metadata": {},
   "outputs": [],
   "source": []
  },
  {
   "cell_type": "code",
   "execution_count": null,
   "id": "a3b992d9",
   "metadata": {},
   "outputs": [],
   "source": []
  },
  {
   "cell_type": "code",
   "execution_count": null,
   "id": "c175fd3a",
   "metadata": {},
   "outputs": [],
   "source": []
  },
  {
   "cell_type": "code",
   "execution_count": null,
   "id": "406d409b",
   "metadata": {},
   "outputs": [],
   "source": []
  },
  {
   "cell_type": "code",
   "execution_count": null,
   "id": "a099b194",
   "metadata": {},
   "outputs": [],
   "source": []
  },
  {
   "cell_type": "code",
   "execution_count": null,
   "id": "345b51c1",
   "metadata": {},
   "outputs": [],
   "source": []
  },
  {
   "cell_type": "code",
   "execution_count": null,
   "id": "eebc91a1",
   "metadata": {},
   "outputs": [],
   "source": []
  },
  {
   "cell_type": "code",
   "execution_count": null,
   "id": "28056851",
   "metadata": {},
   "outputs": [],
   "source": []
  },
  {
   "cell_type": "code",
   "execution_count": null,
   "id": "6fb9cd3c",
   "metadata": {},
   "outputs": [],
   "source": []
  },
  {
   "cell_type": "code",
   "execution_count": null,
   "id": "f6c5a719",
   "metadata": {},
   "outputs": [],
   "source": []
  }
 ],
 "metadata": {
  "kernelspec": {
   "display_name": "Python 3 (ipykernel)",
   "language": "python",
   "name": "python3"
  },
  "language_info": {
   "codemirror_mode": {
    "name": "ipython",
    "version": 3
   },
   "file_extension": ".py",
   "mimetype": "text/x-python",
   "name": "python",
   "nbconvert_exporter": "python",
   "pygments_lexer": "ipython3",
   "version": "3.9.13"
  }
 },
 "nbformat": 4,
 "nbformat_minor": 5
}
